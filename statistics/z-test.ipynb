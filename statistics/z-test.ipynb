{
 "cells": [
  {
   "cell_type": "markdown",
   "id": "15586e19",
   "metadata": {},
   "source": [
    "Suppose the IQ in a certain population is normally distributed with a mean of 100 and standard deviation od 15. A researcher wants to know if a new drug affects IQ levels, so he recruits 20 patients to try it and records their IQ levels. The following code shows how to perform a one sample z-test in python to determine if the new drig causes a significant difference in IQ levels."
   ]
  },
  {
   "cell_type": "code",
   "execution_count": 6,
   "id": "ebfca5e0",
   "metadata": {},
   "outputs": [
    {
     "name": "stdout",
     "output_type": "stream",
     "text": [
      "Here ztest is: 1.4564816895978787 and p-value is: 0.14525950774328536\n",
      "\n",
      "\n",
      "reject the null hypothesis\n"
     ]
    }
   ],
   "source": [
    "from statsmodels.stats.weightstats import ztest as ztest\n",
    "\n",
    "data = [88,92,94,96,97,97,99,99,105,109,110,112,112,113,114,115]\n",
    "\n",
    "z_test = ztest(data,value=100)\n",
    "z_test\n",
    "print(\"Here ztest is: {} and p-value is: {}\".format(z_test[0],z_test[1]))\n",
    "print()\n",
    "print()\n",
    "if (z_test[1]<0.05):\n",
    "    print(\"accept the null hypothesis\")\n",
    "else:\n",
    "    print(\"reject the null hypothesis\")"
   ]
  },
  {
   "cell_type": "code",
   "execution_count": null,
   "id": "be92ccd2",
   "metadata": {},
   "outputs": [],
   "source": []
  }
 ],
 "metadata": {
  "kernelspec": {
   "display_name": "Python 3 (ipykernel)",
   "language": "python",
   "name": "python3"
  },
  "language_info": {
   "codemirror_mode": {
    "name": "ipython",
    "version": 3
   },
   "file_extension": ".py",
   "mimetype": "text/x-python",
   "name": "python",
   "nbconvert_exporter": "python",
   "pygments_lexer": "ipython3",
   "version": "3.9.12"
  }
 },
 "nbformat": 4,
 "nbformat_minor": 5
}
